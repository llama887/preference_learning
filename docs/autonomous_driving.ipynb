{
 "cells": [
  {
   "cell_type": "markdown",
   "metadata": {},
   "source": [
    "There are many techniques that can be used to advance the autonomous driving problem. This notebook will start from the very beginning, showing why many solutions do not work, and end with an exploration of a preference learning based approach. There will be a combination of driving and non-driving examples."
   ]
  },
  {
   "cell_type": "markdown",
   "metadata": {},
   "source": [
    "# Following a Path\n",
    "Given a path, robotics has a solution for following the path. The general control scheme in robotics can be represented by the following block diagram:\n",
    "\n",
    "![Control Block Diagram](plots/Control_Diagram.jpg)\n",
    "\n",
    "Here the plant (or robot), generates some sort of output signal which we match against a reference signal. We take the difference to produce and error which is plugged into the controller which produces a control signal to hopefully correct for the error. If your control is good, the output signal should eventually match the reference signal. Perhaps the most obvious controller is a simple gain function which takes a scalar multiple of of the error and applies it as the control signal. A simple implementation is seen below. The agent is called the naive agent.\n",
    "\n",
    "## Describing the simulator\n",
    "While the actual preference learning project uses very fancy simulators such as GPUDrive or Nocturne, much of this tutorial will simply use matplot lib and some moving dots to represent agents. For the path following section, a green dot will represent the target location, a black line will represent the optimal path, and dots of other colors will be used to represent different solutions. The target location is not particularly important for the path following section but as the idea is to show the effectiveness of differnt control schemes given that we generated a path to get to the target. More important that getting to the target is how close it sticks to the plotted path. \n",
    "\n",
    "Importantly, interactive plotting via matplotlib is not supported within notebooks so where possible I will be showing static plots in the notebook and directing to a .py file in the ./simulations directory, which will be dynamic. This will usually be the first comment of the code cell."
   ]
  },
  {
   "cell_type": "code",
   "execution_count": 25,
   "metadata": {},
   "outputs": [],
   "source": [
    "# ./simulations/naive.py\n",
    "import matplotlib.pyplot as plt\n",
    "%matplotlib inline\n",
    "import random\n",
    "import math\n",
    "\n",
    "class Agent:\n",
    "    def __init__(self):\n",
    "        self.x = 0\n",
    "        self.y = 0\n",
    "        self.positions_x = [self.x]\n",
    "        self.positions_y = [self.y]\n",
    "        self.color = (random.random(), random.random(), random.random())\n",
    "        self.heading = (random.random() - 0.5) * 3"
   ]
  },
  {
   "cell_type": "markdown",
   "metadata": {},
   "source": [
    "Here the reference signal is the x = 0 line. We calculate the error via subtracting 0 from the agent x position. Then we apply our control signal. We define a constant K_ which is the the scalar multiple and "
   ]
  },
  {
   "cell_type": "code",
   "execution_count": 26,
   "metadata": {},
   "outputs": [
    {
     "data": {
      "image/png": "[encoded data removed]",
      "text/plain": [
       "<Figure size 640x480 with 1 Axes>"
      ]
     },
     "metadata": {},
     "output_type": "display_data"
    }
   ],
   "source": [
    "\n",
    "def naive_control(agent):\n",
    "    agent.x += math.sin(agent.heading)\n",
    "    agent.y += math.cos(agent.heading)\n",
    "    reference = 0\n",
    "    error = reference - agent.x\n",
    "    K_ = 0.1\n",
    "    control_signal = K_ * error\n",
    "    agent.heading += control_signal\n",
    "\n",
    "    #print(agent.x, agent.y)\n",
    "    agent.positions_x.append(agent.x)\n",
    "    agent.positions_y.append(agent.y)\n",
    "    return agent\n",
    "\n",
    "naive_agent1 = Agent()\n",
    "naive_agent2 = Agent()\n",
    "naive_agent3 = Agent()\n",
    "fig, ax = plt.subplots()\n",
    "plt.plot(naive_agent1.x, naive_agent1.y, 'ro') # plot a red dot to show where agents start\n",
    "while naive_agent1.y < 100 or naive_agent2.y < 100 or naive_agent3.y < 100:\n",
    "    # the following section differes greatly from the .py file since interactive plotting is not supported in notebooks\n",
    "    # corresponding parts are commented out\n",
    "\n",
    "    # ax.clear()\n",
    "    # ax.plot(x_point, y_point, 'go')\n",
    "    # ax.plot(x_line, y_line, color='black')\n",
    "    if naive_agent1.y < 100:\n",
    "        naive_agent1 = naive_control(naive_agent1)\n",
    "    if naive_agent2.y < 100:\n",
    "        naive_agent2 = naive_control(naive_agent2)\n",
    "    if naive_agent3.y < 100:\n",
    "        naive_agent3 = naive_control(naive_agent3)\n",
    "    # ax.scatter(naive_agent.positions_x, naive_agent.positions_y, color=naive_agent.color)\n",
    "    # ax.set_aspect('equal', adjustable='datalim')\n",
    "    # ax.axis('off')\n",
    "    # plt.draw()\n",
    "    # plt.pause(0.01)\n",
    "# notebook exclusive code, plotting only the final trajectory\n",
    "# Plot the agent's path after the loop\n",
    "\n",
    "\n",
    "# target position\n",
    "x_point, y_point = 0, 100\n",
    "x_line, y_line = [0, x_point], [0, y_point]\n",
    "ax.plot(x_point, y_point, 'go')\n",
    "\n",
    "# Plot the ideal path\n",
    "ax.set_aspect('equal', adjustable='datalim')\n",
    "ax.scatter(naive_agent1.positions_x, naive_agent1.positions_y, color=naive_agent1.color)\n",
    "ax.scatter(naive_agent2.positions_x, naive_agent2.positions_y, color=naive_agent2.color)\n",
    "ax.scatter(naive_agent3.positions_x, naive_agent3.positions_y, color=naive_agent3.color)\n",
    "ax.plot(x_line, y_line, color='black')\n",
    "ax.axis('off')\n",
    "plt.show()"
   ]
  },
  {
   "cell_type": "markdown",
   "metadata": {},
   "source": [
    "The naive.py file only runs one agent since it is easy to just run the file multiple times to produce multiple agents and I think it is too busy with three agents (even this static model is slightly busy). Here is the output from one of the runs from the naive.py file:\n",
    "\n",
    "![naive plot](./plots/naive_control.png)\n",
    "\n",
    "What we observe is that the controller overshoots. This is a common phenomena of all control schemes which will have an intial tendency to overshoot but ideally the error decreases over time. We can understand why over shooting example using the following thought experiment. Suppose for error $e$ it takes a control signal $u$ to correct it and for $\\frac{e}{2}$ it takes a control signal of $\\frac{u}{2}$. Starting at $e$ the controller applied a control signal of $u$ which if given sufficient time, would correct the error. However, by the time the plant is at $\\frac{e}{2}$ the next control loop has started which added an additional $\\frac{u}{2}$ control signal. This means a $u + \\frac{u}{2}$ control is added to an error of only $e$ resulting in overshooting. \n",
    "\n",
    "The naive control is extra terrible in this case as the error over time never decreases but instead it oscillates. This is because the plant does not have direct control over the error. The error is positional error but the plant (representing a car) only has control over its heading. If this is confusing, realize that parallel parking is difficult becasue you can only control the heading of the car and your car does not move laterally. "
   ]
  },
  {
   "cell_type": "code",
   "execution_count": null,
   "metadata": {},
   "outputs": [],
   "source": []
  }
 ],
 "metadata": {
  "kernelspec": {
   "display_name": "env",
   "language": "python",
   "name": "python3"
  },
  "language_info": {
   "codemirror_mode": {
    "name": "ipython",
    "version": 3
   },
   "file_extension": ".py",
   "mimetype": "text/x-python",
   "name": "python",
   "nbconvert_exporter": "python",
   "pygments_lexer": "ipython3",
   "version": "3.12.1"
  }
 },
 "nbformat": 4,
 "nbformat_minor": 2
}
